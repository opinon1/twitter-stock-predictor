{
 "cells": [
  {
   "cell_type": "code",
   "execution_count": 1,
   "id": "8e0d257f-4d8d-42d7-93cd-9219b321f428",
   "metadata": {},
   "outputs": [
    {
     "name": "stderr",
     "output_type": "stream",
     "text": [
      "[nltk_data] Downloading package vader_lexicon to\n",
      "[nltk_data]     /Users/oscarpinon/nltk_data...\n",
      "[nltk_data]   Package vader_lexicon is already up-to-date!\n"
     ]
    }
   ],
   "source": [
    "\n",
    "\n",
    "import joblib \n",
    "import warnings\n",
    "warnings.filterwarnings('ignore')\n",
    "\n",
    "\n",
    "import nltk\n",
    "nltk.download('vader_lexicon')\n",
    "from nltk.sentiment import SentimentIntensityAnalyzer"
   ]
  },
  {
   "cell_type": "code",
   "execution_count": 2,
   "id": "fe03857f-da32-4ae7-be8c-07de2612d15c",
   "metadata": {},
   "outputs": [],
   "source": [
    "\n",
    "# augment vocab\n",
    "sia = SentimentIntensityAnalyzer()\n",
    "\n",
    "\n",
    "positive_words='buy bull long support undervalued underpriced cheap upward rising trend moon rocket hold breakout call beat support buying holding high profit'\n",
    "negative_words='sell bear bubble bearish short overvalued overbought overpriced expensive downward falling sold sell low put miss resistance squeeze cover seller '\n",
    "\n",
    "#MEJORAR\n",
    "financial_lingo_value = 4\n",
    "\n",
    "\n",
    "dictOfpos = { i : financial_lingo_value for i in positive_words.split(\" \") }\n",
    "dictOfneg = { i : -financial_lingo_value for i in negative_words.split(\" \")  }\n",
    "Financial_Lexicon = {**dictOfpos, **dictOfneg}\n",
    "sia.lexicon.update(Financial_Lexicon)"
   ]
  },
  {
   "cell_type": "code",
   "execution_count": 3,
   "id": "2aeabb00-d71f-4de7-9922-ce675e3ad5fd",
   "metadata": {},
   "outputs": [
    {
     "name": "stdout",
     "output_type": "stream",
     "text": [
      "[[4464048.0, 0.0132018636, 180.0, 29.0, 79.0, 368.0, 0.223290556]]\n",
      "Predicted Close Value: [-0.00158679]\n"
     ]
    }
   ],
   "source": [
    "loaded_model = joblib.load('stock_price_predictor.pkl')\n",
    "sample_data = [[\n",
    "    4.46404800e+06, # volume\n",
    "    1.32018636e-02, # volatility \n",
    "    1.80000000e+02, # tweet count\n",
    "    2.90000000e+01, # comment_num\n",
    "    7.90000000e+01, # retweet_num\n",
    "    3.68000000e+02, #likes\n",
    "    2.23290556e-01  # avg_sentiment_score\n",
    "               ]]\n",
    "\n",
    "print(sample_data)\n",
    "prediction = loaded_model.predict(sample_data)\n",
    "print(f'Predicted Close Value: {prediction}')"
   ]
  },
  {
   "cell_type": "code",
   "execution_count": 4,
   "id": "0d1dbbd2-c366-4519-ad1c-58918dac48c8",
   "metadata": {},
   "outputs": [],
   "source": [
    "\n",
    "import yfinance as yf\n",
    "import pandas as pd\n",
    "import numpy as np\n",
    "import datetime\n",
    "\n",
    "\n",
    "def collect_stock_data(ticker_symbol, start_date, end_date):\n",
    "    stock = yf.Ticker(ticker_symbol)\n",
    "    hist = stock.history(start=start_date, end=end_date, interval=\"1d\")\n",
    "\n",
    "    stock_data = {\n",
    "        'volume': hist['Volume'].iloc[-1],\n",
    "        'open_value': hist['Open'].iloc[-1],\n",
    "        'close_value': hist['Close'].iloc[-1],\n",
    "        'high_value': hist['High'].iloc[-1],\n",
    "        'low_value': hist['Low'].iloc[-1]\n",
    "    }\n",
    "    \n",
    "    return stock_data\n",
    "\n",
    "def prepare_features(stock_data, tweet_data):\n",
    "    volume = stock_data['volume']\n",
    "    open_value = stock_data['open_value']\n",
    "    close_value = stock_data['close_value']\n",
    "    high_value = stock_data['high_value']\n",
    "    low_value = stock_data['low_value']\n",
    "    \n",
    "    daily_return = (close_value - open_value) / open_value\n",
    "    volatility = (high_value - low_value) / open_value\n",
    "    \n",
    "    tweet_count = tweet_data['tweet_count'].values[0]\n",
    "    comment_num = tweet_data['comment_num'].values[0]\n",
    "    retweet_num = tweet_data['retweet_num'].values[0]\n",
    "    like_num = tweet_data['like_num'].values[0]\n",
    "    avg_sentiment_score = tweet_data['avg_sentiment_score'].values[0]\n",
    "    \n",
    "    return np.array([[volume, volatility, tweet_count, comment_num, retweet_num, like_num, avg_sentiment_score]])\n",
    "\n",
    "def collect_tweets(ticker_symbol, since_date, until_date):\n",
    "\n",
    "    return pd.DataFrame({\n",
    "        'date': [date],\n",
    "        'ticker_symbol': [ticker_symbol],\n",
    "        'tweet_count': [180],\n",
    "        'comment_num': [29],\n",
    "        'retweet_num': [79],\n",
    "        'like_num': [368],\n",
    "        'avg_sentiment_score': [-0.223]\n",
    "    })\n",
    "\n",
    "# Function to make predictions\n",
    "def predict_stock_price(ticker_symbol, date):\n",
    "    tweet_data = collect_tweets(ticker_symbol, date, date)\n",
    "    stock_data = collect_stock_data(ticker_symbol, date - datetime.timedelta(days=1), date)\n",
    "    \n",
    "    features = prepare_features(stock_data, tweet_data)\n",
    "    \n",
    "    model = joblib.load('stock_price_predictor.pkl')\n",
    "    \n",
    "    prediction = model.predict(features)\n",
    "    return prediction"
   ]
  },
  {
   "cell_type": "code",
   "execution_count": 5,
   "id": "bc286d92-5c54-4aad-a816-0f029a03fb8e",
   "metadata": {},
   "outputs": [
    {
     "name": "stdout",
     "output_type": "stream",
     "text": [
      "Predicted Close Value for AMZN on 2024-06-05: [0.00347204]\n"
     ]
    }
   ],
   "source": [
    "\n",
    "ticker_symbol = 'AMZN'\n",
    "date = datetime.datetime.now()\n",
    "\n",
    "prediction = predict_stock_price(ticker_symbol, date)\n",
    "print(f'Predicted Close Value for {ticker_symbol} on {date.strftime(\"%Y-%m-%d\")}: {prediction}')"
   ]
  },
  {
   "cell_type": "code",
   "execution_count": null,
   "id": "048acdcf-bde5-46a4-925d-40cf6ad29778",
   "metadata": {},
   "outputs": [],
   "source": []
  }
 ],
 "metadata": {
  "kernelspec": {
   "display_name": "Python 3 (ipykernel)",
   "language": "python",
   "name": "python3"
  },
  "language_info": {
   "codemirror_mode": {
    "name": "ipython",
    "version": 3
   },
   "file_extension": ".py",
   "mimetype": "text/x-python",
   "name": "python",
   "nbconvert_exporter": "python",
   "pygments_lexer": "ipython3",
   "version": "3.12.3"
  }
 },
 "nbformat": 4,
 "nbformat_minor": 5
}
